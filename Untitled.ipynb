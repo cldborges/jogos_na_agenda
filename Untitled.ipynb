{
 "cells": [
  {
   "cell_type": "code",
   "execution_count": 1,
   "id": "d4e28424",
   "metadata": {},
   "outputs": [
    {
     "ename": "SyntaxError",
     "evalue": "invalid syntax (<ipython-input-1-50674c84646e>, line 12)",
     "output_type": "error",
     "traceback": [
      "\u001b[1;36m  File \u001b[1;32m\"<ipython-input-1-50674c84646e>\"\u001b[1;36m, line \u001b[1;32m12\u001b[0m\n\u001b[1;33m    tv = jogo.find_element(By.XPATH, '//*/div/img').get_attribute('title'):\u001b[0m\n\u001b[1;37m                                                                          ^\u001b[0m\n\u001b[1;31mSyntaxError\u001b[0m\u001b[1;31m:\u001b[0m invalid syntax\n"
     ]
    }
   ],
   "source": [
    "from selenium.webdriver.common.by import By\n",
    "from classes import *\n",
    "from selenium.common.exceptions import *\n",
    "\n",
    "url = 'https://www.ogol.com.br/edition_matches.php?id_edicao=161104&fase_in&equipa=0&estado=&filtro=&op=calendario&page=5'\n",
    "jogos = extrair_jogos(url)\n",
    "for jogo in jogos:\n",
    "    try:\n",
    "        tv = jogo.find_element(By.CSS_SELECTOR, 'td.multimedia.right').text\n",
    "        print(tv)\n",
    "    except NoSuchElementException as exc:\n",
    "        tv = jogo.find_element(By.XPATH, '//*/div/img').get_attribute('title'):\n",
    "        print(tv)\n"
   ]
  }
 ],
 "metadata": {
  "kernelspec": {
   "display_name": "Python 3",
   "language": "python",
   "name": "python3"
  },
  "language_info": {
   "codemirror_mode": {
    "name": "ipython",
    "version": 3
   },
   "file_extension": ".py",
   "mimetype": "text/x-python",
   "name": "python",
   "nbconvert_exporter": "python",
   "pygments_lexer": "ipython3",
   "version": "3.8.8"
  }
 },
 "nbformat": 4,
 "nbformat_minor": 5
}
